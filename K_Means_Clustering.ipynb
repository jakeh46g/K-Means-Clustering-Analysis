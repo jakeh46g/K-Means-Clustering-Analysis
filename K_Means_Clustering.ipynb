{
  "nbformat": 4,
  "nbformat_minor": 0,
  "metadata": {
    "colab": {
      "provenance": [],
      "mount_file_id": "1Tr16bHa-nDe_vBGdGo4nElEDAwmKSBgF",
      "authorship_tag": "ABX9TyNTGpMpynO08/MsL3HlbrK3",
      "include_colab_link": true
    },
    "kernelspec": {
      "name": "python3",
      "display_name": "Python 3"
    },
    "language_info": {
      "name": "python"
    }
  },
  "cells": [
    {
      "cell_type": "markdown",
      "metadata": {
        "id": "view-in-github",
        "colab_type": "text"
      },
      "source": [
        "<a href=\"https://colab.research.google.com/github/jakeh46g/Unsupervised-Learning/blob/main/K_Means_Clustering.ipynb\" target=\"_parent\"><img src=\"https://colab.research.google.com/assets/colab-badge.svg\" alt=\"Open In Colab\"/></a>"
      ]
    },
    {
      "cell_type": "code",
      "source": [
        "# Mount Google Drive to access files\n",
        "from google.colab import drive\n",
        "drive.mount('/content/drive')"
      ],
      "metadata": {
        "colab": {
          "base_uri": "https://localhost:8080/"
        },
        "id": "XRmDlNo9L4tu",
        "outputId": "bd50df33-c70d-4b4c-c028-086689bf3d14"
      },
      "execution_count": 8,
      "outputs": [
        {
          "output_type": "stream",
          "name": "stdout",
          "text": [
            "Drive already mounted at /content/drive; to attempt to forcibly remount, call drive.mount(\"/content/drive\", force_remount=True).\n"
          ]
        }
      ]
    },
    {
      "cell_type": "code",
      "execution_count": 1,
      "metadata": {
        "id": "Kt0nZA46pgZ4"
      },
      "outputs": [],
      "source": [
        "# Import necessary libraries for data manipulation, visualization, and clustering\n",
        "import matplotlib.pyplot as plt\n",
        "import seaborn as sns\n",
        "import pandas as pd\n",
        "import numpy as np\n",
        "import scipy.stats as stats\n",
        "from sklearn.preprocessing import StandardScaler\n",
        "from sklearn.cluster import KMeans\n",
        "from sklearn.preprocessing import normalize\n",
        "from sklearn.metrics import silhouette_samples, silhouette_score"
      ]
    },
    {
      "cell_type": "code",
      "source": [
        "# Load the dataset from a CSV file in Google Drive into a pandas DataFrame\n",
        "df = pd.read_csv('/content/drive/MyDrive/Colab Notebooks/data/nestegg.csv')"
      ],
      "metadata": {
        "collapsed": true,
        "id": "-qYMNLFvpsbf"
      },
      "execution_count": 10,
      "outputs": []
    },
    {
      "cell_type": "code",
      "source": [
        "# Scale the data using z-scores and convert it back to a pandas DataFrame\n",
        "scaled = stats.zscore(df)\n",
        "scaled = pd.DataFrame(scaled, columns=df.columns)"
      ],
      "metadata": {
        "id": "GUJm6HFUrxPr"
      },
      "execution_count": 11,
      "outputs": []
    },
    {
      "cell_type": "code",
      "source": [
        "# Iterate through different numbers of clusters to find the optimal number using the silhouette score\n",
        "range_n_clusters = [2, 3, 4, 5, 6]\n",
        "for n_clusters in range_n_clusters:\n",
        "  # Initialize the clusterer with n_clusters value and a random generator\n",
        "    # seed of 10 for reproducibility.\n",
        "    clusterer = KMeans(n_clusters=n_clusters, n_init=\"auto\")\n",
        "    cluster_labels = clusterer.fit_predict(scaled)\n",
        "    silhouette_avg = silhouette_score(scaled, cluster_labels)\n",
        "    print(\n",
        "        \"For n_clusters =\",\n",
        "        n_clusters,\n",
        "        \"The average silhouette_score is :\",\n",
        "        silhouette_avg,\n",
        "    )"
      ],
      "metadata": {
        "colab": {
          "base_uri": "https://localhost:8080/"
        },
        "id": "c8dWqk9Fr5nw",
        "outputId": "0767713a-ec2e-4234-fab0-34a178bac440"
      },
      "execution_count": 12,
      "outputs": [
        {
          "output_type": "stream",
          "name": "stdout",
          "text": [
            "For n_clusters = 2 The average silhouette_score is : 0.47753585914055313\n",
            "For n_clusters = 3 The average silhouette_score is : 0.4172739280796073\n",
            "For n_clusters = 4 The average silhouette_score is : 0.44423410691843834\n",
            "For n_clusters = 5 The average silhouette_score is : 0.48969617877416205\n",
            "For n_clusters = 6 The average silhouette_score is : 0.48008213686119333\n"
          ]
        }
      ]
    },
    {
      "cell_type": "code",
      "source": [
        "# Initialize a KMeans model with 3 clusters\n",
        "kmModel = KMeans(n_clusters = 3, n_init='auto')"
      ],
      "metadata": {
        "id": "2iibZIyVp-9v"
      },
      "execution_count": 17,
      "outputs": []
    },
    {
      "cell_type": "code",
      "source": [
        "# Fit the KMeans model to the original DataFrame\n",
        "kmModel = kmModel.fit(df)"
      ],
      "metadata": {
        "id": "eUa2CoGjqS6A"
      },
      "execution_count": 18,
      "outputs": []
    },
    {
      "cell_type": "code",
      "source": [
        "# Get the cluster centroids\n",
        "centroids = kmModel.cluster_centers_"
      ],
      "metadata": {
        "id": "6oDuMF3tqWgg"
      },
      "execution_count": 19,
      "outputs": []
    },
    {
      "cell_type": "code",
      "source": [
        "# Predict the cluster for each data point based on 'Age' and 'Income'\n",
        "clusters = kmModel.fit_predict(df[['Age', 'Income']])"
      ],
      "metadata": {
        "id": "Z2ZgXGGIqYSg"
      },
      "execution_count": 20,
      "outputs": []
    },
    {
      "cell_type": "code",
      "source": [
        "# Create a scatter plot of Age vs Income, colored by cluster\n",
        "p = sns.scatterplot(data=df, x='Age',\n",
        "                    y='Income', hue=clusters, style=clusters)\n",
        "p.set_xlabel('Age', fontsize=14)\n",
        "p.set_ylabel('Income', fontsize=14)"
      ],
      "metadata": {
        "colab": {
          "base_uri": "https://localhost:8080/",
          "height": 471
        },
        "id": "5CL8LbhoqeqB",
        "outputId": "a194aa8a-6f2a-4eff-9b4f-c64d9ba5736b"
      },
      "execution_count": 21,
      "outputs": [
        {
          "output_type": "execute_result",
          "data": {
            "text/plain": [
              "Text(0, 0.5, 'Income')"
            ]
          },
          "metadata": {},
          "execution_count": 21
        },
        {
          "output_type": "display_data",
          "data": {
            "text/plain": [
              "<Figure size 640x480 with 1 Axes>"
            ],
            "image/png": "[encoded data removed]"
          },
          "metadata": {}
        }
      ]
    }
  ]
}